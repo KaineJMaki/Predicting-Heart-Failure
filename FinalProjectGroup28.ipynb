{
 "cells": [
  {
   "cell_type": "markdown",
   "metadata": {
    "id": "WVgFQFesIC7Y"
   },
   "source": [
    "# CSCI 2000U - Scientific Data Analysis - Project Group 28\n",
    "## Final Project: Technical Report and Data Analysis\n",
    "\n",
    "  **Dataset Chosen:** Heart Failure Prediction Dataset\n",
    "\n",
    "  *Link: https://www.kaggle.com/fedesoriano/heart-failure-prediction*\n",
    "\n",
    "## **Introduction**\n",
    "The following dataset was selected due to it's strong potential to derive clear conclusions and spread awareness about a very important medical topic. Cardiovascular diseases are the leading cause of death globally,\n",
    "so we believe that studying the trends is something both interesting and important to understand. The attributes involved are important to the disease at\n",
    "hand, and learning how exactly that is, was very appealing.\n",
    "\n",
    "To assist in our exploration, we have come up with a collection of questions that will help us draw the necesarry conclusions.\n",
    "  1. What chest pain type is the most severe?\n",
    "  2. Can people with seemingly \"normal\" attributes still have heart disease?\n",
    "  3. Which group of patient (both age and sex) are at greatest risk?\n",
    "  4. What is the correlation between resting blood pressure and resting ECG\n",
    "results?\n",
    "  5. Which attributes appear more frequently in patients with heart disease?\n",
    "  6. Which single attribute can be observed as a leading factor towards\n",
    "heart disease?\n",
    "  7. Do those without heart disease still have concerning attributes?\n",
    "  8. Is there a noticable difference between those with heart disease and\n",
    "those without when comparing the correlation between types of chestpain and\n",
    "exercise angina?\n",
    "\n",
    "The following is the team members and what each member was tasked to accomplish:\n",
    "\n",
    "### Gavin Bosman - 100781902\n",
    ">*Insert your contribution here*\n",
    "\n",
    "### Thomas Chiarello - 100786096\n",
    ">*Insert your contribution here*\n",
    "\n",
    "### Kaine Makimoto - 100782862\n",
    ">I was in charge of structuring the document and ensuring everything was exactly how it needed to be. I did research into the topic in order for the group to gain a better understanding of what we were looking at. As for the questions, I answered the first two by providing a code solution and displaying the results in a graph.\n",
    "\n",
    "### Mekael Wasti - 100780179\n",
    ">*Insert your contribution here*"
   ]
  },
  {
   "cell_type": "markdown",
   "metadata": {
    "id": "FfIfql3-Kekc"
   },
   "source": [
    "## **Description of Data**\n",
    "The dataset we are exploring is a heart failure prediction dataset. It contains 'clinical features' which are useful in predicting heart disease or heart disease related events.\n",
    "\n",
    "The data was collected through a combination of multiple datasets relating to the heart conditions. Five different heart datasets that had 11 related attributes were used. A total of 1190 observations were collected and compiled from various regions across the globe. From Cleveland, Ohio, to Switzerland, the combined dataset presents the largest available set of heart information.\n",
    "\n",
    "The dataset was accessed through Kaggle, a crowd-sourced platform where data scientists can acquire datasets.\n",
    "\n",
    "fedesoriano. (September 2021). Heart Failure Prediction Dataset. Retrieved December 1 from https://www.kaggle.com/fedesoriano/heart-failure-prediction."
   ]
  },
  {
   "cell_type": "markdown",
   "metadata": {
    "id": "gie6qlLLMTw7"
   },
   "source": [
    "## **Analysis of the Data**\n",
    "The primary goal of our data analysis is to explore the factors that lead to heart failure. In order to do so, we will analyze our dataset and it's attributes for any significant relationships or correlations between the data. First, we must take a look at the attributes and determine the quality of each before coming to a conclusion of the dataset as a whole.\n",
    "\n",
    "## Attributes\n",
    "The following is a detailed look into each attribute and how it may be used in our analysis.\n",
    "\n",
    "**Age:** The age of the patient, given in years.\n",
    "> While the age of the patient may seem like a simple attribute, it will actually be an important attribute for models of regression analysis. It is a continous variable, so it will allow us to easily indentify trends between age and any comparable variable. \n",
    "\n",
    "**Sex:** The sex of the patient. Either M (Male) or F (Female).\n",
    "> Similar to the age attribute, sex will be a useful variable in plotting. It can be used to compare against any other attribute (other than Age) to see which attribute appears more frequenetly in each sex.\n",
    "\n",
    "**ChestPainType:** The type of chest pain the patient experienced. Can be TA (Typical Angina), ATA (Atypical Angina), NAP (Non-Anginal Pain), or ASY (Asymptomatic).\n",
    ">  Typical Angina is a substernal chest pain, which is caused by physical strains or emotional stress when the heart does not get enough blood oxygen. It can be relieved with rest or nitroglycerin.\n",
    "\n",
    "> Atypical Angina is similar to typical angina, however the symptoms are not standard for angina.\n",
    "\n",
    "> Non-Anginal Pain is a chest pain type that has similar symptons to an anginal pain type, however it lasts over 30 minutes or under 5 seconds.\n",
    "\n",
    "> Asymptomatic is when the patient doesn't display and symptoms of the disease. \n",
    "\n",
    "> Knowing the type of chest pain the patient experienced is useful in order to group together other attributes under a general type. So, we will be able to generalize all of our findings by seeing which type exibits the most heart disease related issues.\n",
    "\n",
    "**RestingBP:** The patient's resting blood pressure. Measured in millimetre of mercury (mm Hg). The given number in  the set is the systolic value of the patient's blood pressure. This is the top number of a typical blood pressure reading, the force of blood against the artery walls while blood is pumped through your body.\n",
    "> A normal blood pressure is below 120 mm Hg.\n",
    "\n",
    "> An elevated blood pressure typically ranged from 120 to 129 mm Hg.\n",
    "\n",
    "> There are three classifications of high blood pressure, which can be useful in determing heart risks.\n",
    "\n",
    "> Hypertension Stage I: Ranges from 130 to 139 mm Hg. Proves a risk of heart diseases and strokes.\n",
    "\n",
    "> Hypertension Stage II: Ranges from 140 to 179 mm Hg. Proves a higer risk of heart diseases and strokes.\n",
    "\n",
    "> Hypertension Crisis: Exceeding 180 mm Hg. May be life threatening with severe chest pain and risk of heart attack.\n",
    "\n",
    "**Cholesterol:** The serum cholesterol level, measured in milligrams per deciliter (mg/dL).\n",
    "> A good level of cholesterol is less than 200 mg/dL\n",
    "\n",
    "> A elevated level is between 200 and 239 mg/dL\n",
    "\n",
    "> A high level is 240 mg/dL or higher.\n",
    "\n",
    "**FastingBS:** The patient's fasting blood sugar level. Given as a boolean value, either 1 (If exceeding 120 mg/dL) or 0 (Otherwise).\n",
    "> Those with a fasting blood sugar level exceeding 120 mg/dL either have prediabetes or diabetes.\n",
    "\n",
    "**RestingECG:** The resting electrocardiogram results. \n",
    "\n",
    "> Normal - The patient has an average ECG (49 to 100 bpm).\n",
    "\n",
    "> ST - Having the ST-T wave abnormality. An increased cardiovascular risk.\n",
    "\n",
    "> LVH - Showing probable or definite left ventricular hypertrophy. At risk of heart failure.\n",
    "\n",
    "**MaxHR:** The maximum heart rate achieved by the patient.\n",
    "> Ideally the maximum heart rate should be 185 bpm for patients 35 years old, and decreasing by 5 bpm for every 5 years older in age. A higher maximum heart rate is a sign of early heart disease. A lower maximum heart rate is a sign of heart conditions.\n",
    "\n",
    "**ExerciseAngina:** If the patient experiences angina through physical activity. Either yes (Y) or no (N).\n",
    "\n",
    "**Oldpeak:** ST value measured in depression, induced by exercise. This is the finding on an electrocardiogram.\n",
    "\n",
    "**ST_Slope:** From the Oldpeak, this is the trend of the slope on the ECG. Can be upsloping (Up), flat (Flat), or downsloping (Down). This displays the general description of the ECG.\n",
    "\n",
    "**HeartDisease:** If the patient has a heart disease. Either 1 if they do or 0 if they do not.\n",
    "\n",
    "## Quality of Data\n",
    "Based on the explored features of our dataset, we can conclude that the set is of high quality and has a lot of very strong attributes that will help us draw conclusions. Taking a look at the dataset, we noticed in the Cholesterol section, that a lot of patients had \"0\" listed. This is an unusable value, so the data must be cleaned."
   ]
  },
  {
   "cell_type": "markdown",
   "metadata": {
    "id": "SV2j70PiMx1y"
   },
   "source": [
    "## **Exploratory Data Analysis**\n",
    "Loading the dataset for analysis:"
   ]
  },
  {
   "cell_type": "code",
   "execution_count": null,
   "metadata": {
    "id": "Ik5QcHiKvywN"
   },
   "outputs": [],
   "source": [
    "#importing used libraries\n",
    "import csv\n",
    "import re\n",
    "import pandas as pd\n",
    "from functools import reduce\n",
    "import numpy as np\n",
    "import calendar\n",
    "import string\n",
    "import matplotlib.pyplot as plt\n",
    "\n",
    "# this aux function reads the CSV file and returns the data in a Python dictionary\n",
    "def get_data_csv():\n",
    "    collection = []\n",
    "    with open('heart.csv', 'r') as f:\n",
    "        for line in csv.DictReader(f):\n",
    "            collection.append(line)\n",
    "        return collection\n",
    "        \n",
    "# the data    \n",
    "data = get_data_csv()\n",
    "heart = pd.DataFrame(data)\n",
    "\n",
    "# Cleaning the dataframe of invalid values\n",
    "heart = heart.loc[(heart[\"Cholesterol\"] != \"0\") & (heart[\"RestingBP\"] != 0)]"
   ]
  },
  {
   "cell_type": "markdown",
   "metadata": {
    "id": "kapgwhCzv8C3"
   },
   "source": [
    "## Which chest pain type is the most severe?\n",
    "Severity of chest pain is vague. Since we are trying to find out factors leading to heart failure, we want to look for patients that display the most concerning attributes. Notably from our attribute exploration, we know some intense values to look out for. The following code finds patients with each chest pain type, and displays the percentage of them with concering attributes. The final outcome is displayed in a bar graph."
   ]
  },
  {
   "cell_type": "code",
   "execution_count": null,
   "metadata": {
    "colab": {
     "base_uri": "https://localhost:8080/",
     "height": 431
    },
    "id": "GgdhBhdtwXs3",
    "outputId": "bea2b5bc-78c4-43bf-90ea-93df30ce4a96"
   },
   "outputs": [
    {
     "data": {
      "text/plain": [
       "Text(0.5, 1.0, 'Concerning Attributes for Patients with TA')"
      ]
     },
     "execution_count": 64,
     "metadata": {},
     "output_type": "execute_result"
    },
    {
     "data": {
      "image/png": "[encoded data removed]",
      "text/plain": [
       "<Figure size 720x432 with 1 Axes>"
      ]
     },
     "metadata": {
      "needs_background": "light"
     },
     "output_type": "display_data"
    }
   ],
   "source": [
    "# Typical Angina\n",
    "taPain = (heart.loc[heart[\"ChestPainType\"] == \"TA\"]) # Locate all rows with TA\n",
    "\n",
    "# Find patients with Heart Disease\n",
    "taHDPercent = round((len(taPain.loc[taPain[\"HeartDisease\"] == \"1\"]) / len(taPain))*100,2)\n",
    "\n",
    "# Find patients with dangerously high RestingBP\n",
    "taBPPercent = round((len(taPain.loc[taPain[\"RestingBP\"].astype(int) > 129]) / len(taPain))*100,2)\n",
    "\n",
    "# Find patients with high cholesterol\n",
    "taCLPercent = round((len(taPain.loc[taPain[\"Cholesterol\"].astype(int) > 239]) / len(taPain))*100,2)\n",
    "\n",
    "# Find patients with high FastingBS level\n",
    "taBSPercent = round((len(taPain.loc[taPain[\"FastingBS\"] == \"1\"]) / len(taPain))*100,2)\n",
    "\n",
    "# Find patients with exercise angina\n",
    "taEAPercent = round((len(taPain.loc[taPain[\"ExerciseAngina\"] == \"Y\"]) / len(taPain))*100,2)\n",
    "\n",
    "# Display Findings in Chart\n",
    "taData = [[\"Heart Disease\", taHDPercent], [\"High RestingBP\", taBPPercent], [\"High Cholesterol\", taCLPercent], [\"HighFastingBS\", taBSPercent], [\"ExerciseAngina\", taEAPercent]]\n",
    "dfTA = pd.DataFrame(taData, columns=[\"Attribute\", \"Percent\"])\n",
    "dfTA_sorted = dfTA.sort_values(\"Percent\")\n",
    "plt.figure(figsize=(10,6))\n",
    "plt.bar(\"Attribute\", \"Percent\", data=dfTA_sorted)\n",
    "plt.ylim(0,100)\n",
    "plt.xlabel(\"Attribute\", size=15)\n",
    "plt.ylabel(\"Percent\", size=15)\n",
    "plt.title(\"Concerning Attributes for Patients with TA\", size=18)"
   ]
  },
  {
   "cell_type": "code",
   "execution_count": null,
   "metadata": {
    "colab": {
     "base_uri": "https://localhost:8080/",
     "height": 431
    },
    "id": "MrP2_dlX2HTJ",
    "outputId": "085955ba-6521-4238-f190-8669c09d3af0"
   },
   "outputs": [
    {
     "data": {
      "text/plain": [
       "Text(0.5, 1.0, 'Concerning Attributes for Patients with ATA')"
      ]
     },
     "execution_count": 65,
     "metadata": {},
     "output_type": "execute_result"
    },
    {
     "data": {
      "image/png": "[encoded data removed]",
      "text/plain": [
       "<Figure size 720x432 with 1 Axes>"
      ]
     },
     "metadata": {
      "needs_background": "light"
     },
     "output_type": "display_data"
    }
   ],
   "source": [
    "# ATypical Angina\n",
    "ataPain = (heart.loc[heart[\"ChestPainType\"] == \"ATA\"]) # Locate all rows with ATA\n",
    "\n",
    "# Find patients with Heart Disease\n",
    "ataHDPercent = round((len(ataPain.loc[ataPain[\"HeartDisease\"] == \"1\"]) / len(ataPain))*100,2)\n",
    "\n",
    "# Find patients with dangerously high RestingBP\n",
    "ataBPPercent = round((len(ataPain.loc[ataPain[\"RestingBP\"].astype(int) > 129]) / len(ataPain))*100,2)\n",
    "\n",
    "# Find patients with high cholesterol\n",
    "ataCLPercent = round((len(ataPain.loc[ataPain[\"Cholesterol\"].astype(int) > 239]) / len(ataPain))*100,2)\n",
    "\n",
    "# Find patients with high FastingBS level\n",
    "ataBSPercent = round((len(ataPain.loc[ataPain[\"FastingBS\"] == \"1\"]) / len(ataPain))*100,2)\n",
    "\n",
    "# Find patients with exercise angina\n",
    "ataEAPercent = round((len(ataPain.loc[ataPain[\"ExerciseAngina\"] == \"Y\"]) / len(ataPain))*100,2)\n",
    "\n",
    "# Display Findings in Chart\n",
    "ataData = [[\"Heart Disease\", ataHDPercent], [\"High RestingBP\", ataBPPercent], [\"High Cholesterol\", ataCLPercent], [\"HighFastingBS\", ataBSPercent], [\"ExerciseAngina\", ataEAPercent]]\n",
    "dfATA = pd.DataFrame(ataData, columns=[\"Attribute\", \"Percent\"])\n",
    "dfATA_sorted = dfATA.sort_values(\"Percent\")\n",
    "plt.figure(figsize=(10,6))\n",
    "plt.bar(\"Attribute\", \"Percent\", data=dfATA_sorted)\n",
    "plt.ylim(0,100)\n",
    "plt.xlabel(\"Attribute\", size=15)\n",
    "plt.ylabel(\"Percent\", size=15)\n",
    "plt.title(\"Concerning Attributes for Patients with ATA\", size=18)"
   ]
  },
  {
   "cell_type": "code",
   "execution_count": null,
   "metadata": {
    "colab": {
     "base_uri": "https://localhost:8080/",
     "height": 431
    },
    "id": "tm-39okW2x9P",
    "outputId": "3362d797-9673-46a3-e926-d639fc92c962"
   },
   "outputs": [
    {
     "data": {
      "text/plain": [
       "Text(0.5, 1.0, 'Concerning Attributes for Patients with NAP')"
      ]
     },
     "execution_count": 66,
     "metadata": {},
     "output_type": "execute_result"
    },
    {
     "data": {
      "image/png": "[encoded data removed]",
      "text/plain": [
       "<Figure size 720x432 with 1 Axes>"
      ]
     },
     "metadata": {
      "needs_background": "light"
     },
     "output_type": "display_data"
    }
   ],
   "source": [
    "# Non-Anginal Pain\n",
    "napPain = (heart.loc[heart[\"ChestPainType\"] == \"NAP\"]) # Locate all rows with NAP\n",
    "\n",
    "# Find patients with Heart Disease\n",
    "napHDPercent = round((len(napPain.loc[napPain[\"HeartDisease\"] == \"1\"]) / len(napPain))*100,2)\n",
    "\n",
    "# Find patients with dangerously high RestingBP\n",
    "napBPPercent = round((len(napPain.loc[napPain[\"RestingBP\"].astype(int) > 129]) / len(napPain))*100,2)\n",
    "\n",
    "# Find patients with high cholesterol\n",
    "napCLPercent = round((len(napPain.loc[napPain[\"Cholesterol\"].astype(int) > 239]) / len(napPain))*100,2)\n",
    "\n",
    "# Find patients with high FastingBS level\n",
    "napBSPercent = round((len(napPain.loc[napPain[\"FastingBS\"] == \"1\"]) / len(napPain))*100,2)\n",
    "\n",
    "# Find patients with exercise angina\n",
    "napEAPercent = round((len(napPain.loc[napPain[\"ExerciseAngina\"] == \"Y\"]) / len(napPain))*100,2)\n",
    "\n",
    "# Display Findings in Chart\n",
    "napData = [[\"Heart Disease\", napHDPercent], [\"High RestingBP\", napBPPercent], [\"High Cholesterol\", napCLPercent], [\"HighFastingBS\", napBSPercent], [\"ExerciseAngina\", napEAPercent]]\n",
    "dfNAP = pd.DataFrame(napData, columns=[\"Attribute\", \"Percent\"])\n",
    "dfNAP_sorted = dfNAP.sort_values(\"Percent\")\n",
    "plt.figure(figsize=(10,6))\n",
    "plt.bar(\"Attribute\", \"Percent\", data=dfNAP_sorted)\n",
    "plt.ylim(0,100)\n",
    "plt.xlabel(\"Attribute\", size=15)\n",
    "plt.ylabel(\"Percent\", size=15)\n",
    "plt.title(\"Concerning Attributes for Patients with NAP\", size=18)"
   ]
  },
  {
   "cell_type": "code",
   "execution_count": null,
   "metadata": {
    "colab": {
     "base_uri": "https://localhost:8080/",
     "height": 431
    },
    "id": "_QWF92RO3Ctm",
    "outputId": "1ccc7448-ef6f-42f1-b9cf-f6ecb0e39824"
   },
   "outputs": [
    {
     "data": {
      "text/plain": [
       "Text(0.5, 1.0, 'Concerning Attributes for Patients with ASY')"
      ]
     },
     "execution_count": 67,
     "metadata": {},
     "output_type": "execute_result"
    },
    {
     "data": {
      "image/png": "[encoded data removed]",
      "text/plain": [
       "<Figure size 720x432 with 1 Axes>"
      ]
     },
     "metadata": {
      "needs_background": "light"
     },
     "output_type": "display_data"
    }
   ],
   "source": [
    "# Asymptomatic\n",
    "asyPain = (heart.loc[heart[\"ChestPainType\"] == \"ASY\"]) # Locate all rows with ASY\n",
    "\n",
    "# Find patients with Heart Disease\n",
    "asyHDPercent = round((len(asyPain.loc[asyPain[\"HeartDisease\"] == \"1\"]) / len(asyPain))*100,2)\n",
    "\n",
    "# Find patients with dangerously high RestingBP\n",
    "asyBPPercent = round((len(asyPain.loc[asyPain[\"RestingBP\"].astype(int) > 129]) / len(asyPain))*100,2)\n",
    "\n",
    "# Find patients with high cholesterol\n",
    "asyCLPercent = round((len(asyPain.loc[asyPain[\"Cholesterol\"].astype(int) > 239]) / len(asyPain))*100,2)\n",
    "\n",
    "# Find patients with high FastingBS level\n",
    "asyBSPercent = round((len(asyPain.loc[asyPain[\"FastingBS\"] == \"1\"]) / len(asyPain))*100,2)\n",
    "\n",
    "# Find patients with exercise angina\n",
    "asyEAPercent = round((len(asyPain.loc[asyPain[\"ExerciseAngina\"] == \"Y\"]) / len(asyPain))*100,2)\n",
    "\n",
    "# Display Findings in Chart\n",
    "asyData = [[\"Heart Disease\", asyHDPercent], [\"High RestingBP\", asyBPPercent], [\"High Cholesterol\", asyCLPercent], [\"HighFastingBS\", asyBSPercent], [\"ExerciseAngina\", asyEAPercent]]\n",
    "dfASY = pd.DataFrame(asyData, columns=[\"Attribute\", \"Percent\"])\n",
    "dfASY_sorted = dfASY.sort_values(\"Percent\")\n",
    "plt.figure(figsize=(10,6))\n",
    "plt.bar(\"Attribute\", \"Percent\", data=dfASY_sorted)\n",
    "plt.ylim(0,100)\n",
    "plt.xlabel(\"Attribute\", size=15)\n",
    "plt.ylabel(\"Percent\", size=15)\n",
    "plt.title(\"Concerning Attributes for Patients with ASY\", size=18)"
   ]
  },
  {
   "cell_type": "markdown",
   "metadata": {
    "id": "RgbyZD36XHo5"
   },
   "source": [
    "After analyzing the graphs for each chest pain type, we can conclude that patients that are asymptomatic exerience the most concering attributes. This is concerning, as these patients aren't experience much pain physically, but are at a much greater risk. Patients with atypical angina (ATA) experience the least amount of concerning attributes. Across all four types, it's notable that a high resting blood pressure is common. From this we can conclude that typical angina is the most severe, and a high resting blood pressure is related to chest pain."
   ]
  },
  {
   "cell_type": "markdown",
   "metadata": {
    "id": "3lzUNX16LIG9"
   },
   "source": [
    "## Can people with seemingly \"normal\" attributes still have heart disease?\n",
    "With the information we have about each of the attributes, we have a rough idea on what is considered \"normal.\" We want to find what percentage of people with heart disease, have mostly normal attributes."
   ]
  },
  {
   "cell_type": "code",
   "execution_count": null,
   "metadata": {
    "colab": {
     "base_uri": "https://localhost:8080/",
     "height": 431
    },
    "id": "RToV0Z_vLk7a",
    "outputId": "e357341b-c60e-4a2a-8c2f-c445e51c230b"
   },
   "outputs": [
    {
     "data": {
      "text/plain": [
       "Text(0.5, 1.0, 'Normal Levels in Patients with Heart Disease')"
      ]
     },
     "execution_count": 73,
     "metadata": {},
     "output_type": "execute_result"
    },
    {
     "data": {
      "image/png": "[encoded data removed]",
      "text/plain": [
       "<Figure size 720x432 with 1 Axes>"
      ]
     },
     "metadata": {
      "needs_background": "light"
     },
     "output_type": "display_data"
    }
   ],
   "source": [
    "# Locate all patients with heart disease\n",
    "heartDisease = (heart.loc[heart[\"HeartDisease\"] == \"1\"])\n",
    "\n",
    "# Find people with heart disease and normal attributes\n",
    "avgRestingBP = round((len(heartDisease.loc[heartDisease[\"RestingBP\"].astype(int) < 120]) / len(heartDisease))*100,2)\n",
    "avgCholesterol = round((len(heartDisease.loc[heartDisease[\"Cholesterol\"].astype(int) < 200]) / len(heartDisease))*100,2)\n",
    "avgFastingBS = round((len(heartDisease.loc[heartDisease[\"FastingBS\"] == \"0\"]) / len(heartDisease))*100,2)\n",
    "avgRestingECG = round((len(heartDisease.loc[heartDisease[\"RestingECG\"] == \"Normal\"]) / len(heartDisease))*100,2)\n",
    "avgExerciseAngina = round((len(heartDisease.loc[heartDisease[\"ExerciseAngina\"] == \"N\"]) / len(heartDisease))*100,2)\n",
    "\n",
    "# Display Findings in Chart\n",
    "avgData = [[\"RestingBP\", avgRestingBP], [\"Cholesterol\", avgCholesterol], [\"FastingBS\", avgFastingBS], [\"RestingECG\", avgRestingECG], [\"ExerciseAngina\", avgExerciseAngina]]\n",
    "averageDF = pd.DataFrame(avgData, columns=[\"Attribute\", \"Percent\"])\n",
    "averageDF_sorted = averageDF.sort_values(\"Percent\")\n",
    "plt.figure(figsize=(10,6))\n",
    "plt.bar(\"Attribute\", \"Percent\", data=averageDF_sorted)\n",
    "plt.ylim(0,100)\n",
    "plt.xlabel(\"Attribute\", size=15)\n",
    "plt.ylabel(\"Percent\", size=15)\n",
    "plt.title(\"Normal Levels in Patients with Heart Disease\", size=18)"
   ]
  },
  {
   "cell_type": "markdown",
   "metadata": {
    "id": "8js34cQaYz4z"
   },
   "source": [
    "Looking at the graph, we can immediately notice that almost 80% of patients with heart disease have a normal fasting blood sugar level. This indicates that most people with high blood sugar levels are not as at risk of heart disease. Smiilarly, RestingECG is more commonly normal among patients with heart disease. A reason can be due to these attributes being binary results, either yes or no. It isn't as specific as the cholesterol levels where we have a definitive number. We can summarize that RestingECG and FastingBS might not be the most helpful attributes in drawing conclusions or predicting heart disease."
   ]
  },
  {
   "cell_type": "code",
   "execution_count": null,
   "metadata": {
    "colab": {
     "base_uri": "https://localhost:8080/",
     "height": 143
    },
    "id": "_bPSNuuoYy3i",
    "outputId": "33d16ea7-8153-469b-fb77-2b9da508f08a"
   },
   "outputs": [
    {
     "data": {
      "text/html": [
       "<div>\n",
       "<style scoped>\n",
       "    .dataframe tbody tr th:only-of-type {\n",
       "        vertical-align: middle;\n",
       "    }\n",
       "\n",
       "    .dataframe tbody tr th {\n",
       "        vertical-align: top;\n",
       "    }\n",
       "\n",
       "    .dataframe thead th {\n",
       "        text-align: right;\n",
       "    }\n",
       "</style>\n",
       "<table border=\"1\" class=\"dataframe\">\n",
       "  <thead>\n",
       "    <tr style=\"text-align: right;\">\n",
       "      <th></th>\n",
       "      <th>Age</th>\n",
       "      <th>Sex</th>\n",
       "      <th>ChestPainType</th>\n",
       "      <th>RestingBP</th>\n",
       "      <th>Cholesterol</th>\n",
       "      <th>FastingBS</th>\n",
       "      <th>RestingECG</th>\n",
       "      <th>MaxHR</th>\n",
       "      <th>ExerciseAngina</th>\n",
       "      <th>Oldpeak</th>\n",
       "      <th>ST_Slope</th>\n",
       "      <th>HeartDisease</th>\n",
       "    </tr>\n",
       "  </thead>\n",
       "  <tbody>\n",
       "    <tr>\n",
       "      <th>16</th>\n",
       "      <td>38</td>\n",
       "      <td>M</td>\n",
       "      <td>ASY</td>\n",
       "      <td>110</td>\n",
       "      <td>196</td>\n",
       "      <td>0</td>\n",
       "      <td>Normal</td>\n",
       "      <td>166</td>\n",
       "      <td>N</td>\n",
       "      <td>0</td>\n",
       "      <td>Flat</td>\n",
       "      <td>1</td>\n",
       "    </tr>\n",
       "    <tr>\n",
       "      <th>104</th>\n",
       "      <td>46</td>\n",
       "      <td>M</td>\n",
       "      <td>ASY</td>\n",
       "      <td>118</td>\n",
       "      <td>186</td>\n",
       "      <td>0</td>\n",
       "      <td>Normal</td>\n",
       "      <td>124</td>\n",
       "      <td>N</td>\n",
       "      <td>0</td>\n",
       "      <td>Flat</td>\n",
       "      <td>1</td>\n",
       "    </tr>\n",
       "    <tr>\n",
       "      <th>509</th>\n",
       "      <td>58</td>\n",
       "      <td>M</td>\n",
       "      <td>ASY</td>\n",
       "      <td>110</td>\n",
       "      <td>198</td>\n",
       "      <td>0</td>\n",
       "      <td>Normal</td>\n",
       "      <td>110</td>\n",
       "      <td>N</td>\n",
       "      <td>0</td>\n",
       "      <td>Flat</td>\n",
       "      <td>1</td>\n",
       "    </tr>\n",
       "  </tbody>\n",
       "</table>\n",
       "</div>"
      ],
      "text/plain": [
       "    Age Sex ChestPainType  ... Oldpeak ST_Slope HeartDisease\n",
       "16   38   M           ASY  ...       0     Flat            1\n",
       "104  46   M           ASY  ...       0     Flat            1\n",
       "509  58   M           ASY  ...       0     Flat            1\n",
       "\n",
       "[3 rows x 12 columns]"
      ]
     },
     "execution_count": 74,
     "metadata": {},
     "output_type": "execute_result"
    }
   ],
   "source": [
    "# Find people with all normal attributes\n",
    "allNormal = (heartDisease.loc[(heartDisease[\"RestingBP\"].astype(int) < 120) & (heartDisease[\"Cholesterol\"].astype(int) < 200) & (heartDisease[\"FastingBS\"] == \"0\") & (heartDisease[\"ExerciseAngina\"] == \"N\") & (heartDisease[\"RestingECG\"] == \"Normal\")])\n",
    "allNormal"
   ]
  },
  {
   "cell_type": "markdown",
   "metadata": {
    "id": "GuJqwjvib6j1"
   },
   "source": [
    "Out of all of the patients in the sample, only 3 of them display almost completely normal readings across their attributes and still have heart disease. The only slightly concerning thing to note is the slightly slower maximum heart rate. These are considered outliers in our study, as we can't draw meaningful conclusions."
   ]
  },
  {
   "cell_type": "markdown",
   "metadata": {
    "id": "BW70BQHdwfJg"
   },
   "source": [
    "## Which group of patient (both age and sex) are at greatest risk?"
   ]
  },
  {
   "cell_type": "code",
   "execution_count": null,
   "metadata": {
    "id": "78dXpiKJwk7w"
   },
   "outputs": [],
   "source": [
    "# Gavin is doing this"
   ]
  },
  {
   "cell_type": "markdown",
   "metadata": {
    "id": "8-akKWy7wwVc"
   },
   "source": [
    "## Which attributes appear more frequently in patients with heart disease?"
   ]
  },
  {
   "cell_type": "code",
   "execution_count": null,
   "metadata": {
    "id": "qFREUIG-w1Xw"
   },
   "outputs": [],
   "source": [
    "# Gavin is doing this"
   ]
  },
  {
   "cell_type": "markdown",
   "metadata": {
    "id": "WYYa5TWdwo0b"
   },
   "source": [
    "## What is the correlation between resting blood pressure and resting ECG results?"
   ]
  },
  {
   "cell_type": "code",
   "execution_count": null,
   "metadata": {
    "id": "qfo7P-pVwvE2"
   },
   "outputs": [],
   "source": [
    "# Mekael is doing this"
   ]
  },
  {
   "cell_type": "markdown",
   "metadata": {
    "id": "roZLpyVVw2mD"
   },
   "source": [
    "## Which single attribute can be observed as a leading factor towards heart disease?"
   ]
  },
  {
   "cell_type": "code",
   "execution_count": null,
   "metadata": {
    "id": "x0a2OOALw6fO"
   },
   "outputs": [],
   "source": [
    "# Mekael is doing this"
   ]
  },
  {
   "cell_type": "markdown",
   "metadata": {
    "id": "r94QXGsdw9NR"
   },
   "source": [
    "## Do those without heart disease still have concerning attributes?"
   ]
  },
  {
   "cell_type": "code",
   "execution_count": null,
   "metadata": {
    "colab": {
     "base_uri": "https://localhost:8080/",
     "height": 1000
    },
    "id": "JbxFBHQCw84O",
    "outputId": "7a62c2b5-bdcf-4f46-9927-5d4bc0eedf91"
   },
   "outputs": [
    {
     "data": {
      "text/plain": [
       "Text(0.5, 1.0, 'All patients with concerning attributes')"
      ]
     },
     "execution_count": 4,
     "metadata": {},
     "output_type": "execute_result"
    },
    {
     "data": {
      "image/png": "[encoded data removed]",
      "text/plain": [
       "<Figure size 720x432 with 1 Axes>"
      ]
     },
     "metadata": {
      "needs_background": "light"
     },
     "output_type": "display_data"
    },
    {
     "data": {
      "image/png": "[encoded data removed]",
      "text/plain": [
       "<Figure size 720x432 with 1 Axes>"
      ]
     },
     "metadata": {
      "needs_background": "light"
     },
     "output_type": "display_data"
    },
    {
     "data": {
      "image/png": "[encoded data removed]",
      "text/plain": [
       "<Figure size 720x432 with 1 Axes>"
      ]
     },
     "metadata": {
      "needs_background": "light"
     },
     "output_type": "display_data"
    }
   ],
   "source": [
    "#Yes Heart Disease\n",
    "YHD = heart.loc[heart['HeartDisease'] == '1']\n",
    "#No Heart Disease\n",
    "NHD = heart.loc[heart['HeartDisease'] == '0']\n",
    "\n",
    "RBP = round(len(NHD.loc[NHD[\"RestingBP\"].astype(int) > 120]) / len(NHD)*100,2)\n",
    "C = round(len(NHD.loc[NHD[\"Cholesterol\"].astype(int) > 200]) / len(NHD)*100,2)\n",
    "FBS = round(len(NHD.loc[NHD[\"FastingBS\"].astype(int) == 1]) / len(NHD)*100,2)\n",
    "EA = round(len(NHD.loc[NHD[\"ExerciseAngina\"] == \"Y\"]) / len(NHD)*100,2)\n",
    "RECG = round(len(NHD.loc[NHD[\"RestingECG\"] != \"Normal\"]) / len(NHD)*100,2)\n",
    "\n",
    "data = [[\"Resting BP\", RBP], [\"Cholesterol\", C], [\"Fasting BS\", FBS], [\"Exercise Angina\", EA], [\"Resting ECG\", RECG]]\n",
    "df = pd.DataFrame(data, columns=[\"Attributes\", \"Number\"])\n",
    "plt.figure(figsize=(10,6))\n",
    "plt.bar(\"Attributes\", \"Number\", data=df)\n",
    "plt.ylim(0,100)\n",
    "plt.xlabel(\"Attributes\", size=15)\n",
    "plt.ylabel(\"Number\", size=15)\n",
    "plt.title(\"Patients with concerning attributes without Heart Disease\", size=18)\n",
    "\n",
    "RBP = round(len(YHD.loc[YHD[\"RestingBP\"].astype(int) > 120]) / len(YHD)*100,2)\n",
    "C = round(len(YHD.loc[YHD[\"Cholesterol\"].astype(int) > 200]) / len(YHD)*100,2)\n",
    "FBS = round(len(YHD.loc[YHD[\"FastingBS\"].astype(int) == 1]) / len(YHD)*100,2)\n",
    "EA = round(len(YHD.loc[YHD[\"ExerciseAngina\"] == \"Y\"]) / len(YHD)*100,2)\n",
    "RECG = round(len(YHD.loc[YHD[\"RestingECG\"] != \"Normal\"]) / len(YHD)*100,2)\n",
    "\n",
    "data = [[\"Resting BP\", RBP], [\"Cholesterol\", C], [\"Fasting BS\", FBS], [\"Exercise Angina\", EA], [\"Resting ECG\", RECG]]\n",
    "df = pd.DataFrame(data, columns=[\"Attributes\", \"Percent\"])\n",
    "plt.figure(figsize=(10,6))\n",
    "plt.bar(\"Attributes\", \"Percent\", data=df)\n",
    "plt.ylim(0,100)\n",
    "plt.xlabel(\"Attributes\", size=15)\n",
    "plt.ylabel(\"Percent\", size=15)\n",
    "plt.title(\"Patients with concerning attributes with Heart Disease\", size=18)\n",
    "\n",
    "RBP = round(len(heart.loc[heart[\"RestingBP\"].astype(int) > 120]) / len(heart)*100,2)\n",
    "C = round(len(heart.loc[heart[\"Cholesterol\"].astype(int) > 200]) / len(heart)*100,2)\n",
    "FBS = round(len(heart.loc[heart[\"FastingBS\"].astype(int) == 1]) / len(heart)*100,2)\n",
    "EA = round(len(heart.loc[heart[\"ExerciseAngina\"] == \"Y\"]) / len(heart)*100,2)\n",
    "RECG = round(len(heart.loc[heart[\"RestingECG\"] != \"Normal\"]) / len(heart)*100,2)\n",
    "\n",
    "data = [[\"Resting BP\", RBP], [\"Cholesterol\", C], [\"Fasting BS\", FBS], [\"Exercise Angina\", EA], [\"Resting ECG\", RECG]]\n",
    "df = pd.DataFrame(data, columns=[\"Attributes\", \"Percent\"])\n",
    "plt.figure(figsize=(10,6))\n",
    "plt.bar(\"Attributes\", \"Percent\", data=df)\n",
    "plt.ylim(0,100)\n",
    "plt.xlabel(\"Attributes\", size=15)\n",
    "plt.ylabel(\"Percent\", size=15)\n",
    "plt.title(\"All patients with concerning attributes\", size=18)"
   ]
  },
  {
   "cell_type": "markdown",
   "metadata": {
    "id": "2X8R8g1pYE9u"
   },
   "source": [
    "Here we have three graphs for patients with concerning attributes. Top graph is for those without heart disease which we will use for our conclusions, second graph is for those with heart disease which we will use to determine which trends are present in the attributes, third graph is the total population, or the average between the previous two graphs, which we will use as a base case to compare with the other graphs.\n",
    "\n",
    "With all three graphs we can see that majority of patients with and without heart disease have a high resting blood pressure, a high cholesterol level however they have high fasting blood sugar. \n",
    "Unique only to those with heart disease is exercise angina and non-normal resting electrocardiogram.\n",
    "When compared to patients without heart disease we can see that the non-majority of patients without heart disease have exercise angina and a non-normal resting electrocardiogram.\n",
    "\n",
    "To conclude patients without heart disease do still have concerning attributes such as a high resting blood pressure and high cholesterol\n",
    "Patients without heart disease are unlikely to have a non-normal resting electrocardiogram and a high fasting blood sugar. Only a small portion of patients without heart disease have exercise angina. "
   ]
  },
  {
   "cell_type": "markdown",
   "metadata": {
    "id": "VdMM2TwExD7a"
   },
   "source": [
    "## Is there a noticable difference between those with heart disease and those without when comparing types of chestpain?"
   ]
  },
  {
   "cell_type": "code",
   "execution_count": null,
   "metadata": {
    "colab": {
     "base_uri": "https://localhost:8080/",
     "height": 826
    },
    "id": "7A_sa8oPxFmF",
    "outputId": "8a98ddc8-ae55-4489-8077-ebbfb067b758"
   },
   "outputs": [
    {
     "data": {
      "text/plain": [
       "Text(0.5, 1.0, 'ChestPainType For patients without Heart Disease')"
      ]
     },
     "execution_count": 5,
     "metadata": {},
     "output_type": "execute_result"
    },
    {
     "data": {
      "image/png": "[encoded data removed]",
      "text/plain": [
       "<Figure size 720x432 with 1 Axes>"
      ]
     },
     "metadata": {
      "needs_background": "light"
     },
     "output_type": "display_data"
    },
    {
     "data": {
      "image/png": "[encoded data removed]",
      "text/plain": [
       "<Figure size 720x432 with 1 Axes>"
      ]
     },
     "metadata": {
      "needs_background": "light"
     },
     "output_type": "display_data"
    }
   ],
   "source": [
    "heart2 = heart.copy()\n",
    "heart2 = heart2.reset_index(drop=True)\n",
    "\n",
    "#Yes Heart Disease\n",
    "YHD = heart2.loc[heart2['HeartDisease'] == '1']\n",
    "#No Heart Disease\n",
    "NHD = heart2.loc[heart2['HeartDisease'] == '0']\n",
    "\n",
    "#\n",
    "# Has Heart Disease\n",
    "#\n",
    "\n",
    "TA = round(len(YHD.loc[YHD[\"ChestPainType\"] == \"TA\"]) / len(YHD)*100,2)\n",
    "ATA = round(len(YHD.loc[YHD[\"ChestPainType\"] == \"ATA\"]) / len(YHD)*100,2)\n",
    "NAP = round(len(YHD.loc[YHD[\"ChestPainType\"] == \"NAP\"]) / len(YHD)*100,2)\n",
    "ASY = round(len(YHD.loc[YHD[\"ChestPainType\"] == \"ASY\"]) / len(YHD)*100,2)\n",
    "\n",
    "#Percentage graph to show distribution of chest pain types\n",
    "data = [[\"TA\", TA], [\"ATA\", ATA], [\"NAP\", NAP], [\"ASY\", ASY]]\n",
    "df = pd.DataFrame(data, columns=[\"ChestPainType\", \"Percent\"])\n",
    "dfS = df.sort_values(\"Percent\")\n",
    "plt.figure(figsize=(10,6))\n",
    "plt.bar(\"ChestPainType\", \"Percent\", data=dfS)\n",
    "plt.ylim(0,100)\n",
    "plt.xlabel(\"ChestPainType\", size=15)\n",
    "plt.ylabel(\"Percent\", size=15)\n",
    "plt.title(\"ChestPainType For patients with Heart Disease\", size=18)\n",
    "\n",
    "#\n",
    "# Does Not Have Heart Disease\n",
    "#\n",
    "\n",
    "TA = round(len(NHD.loc[NHD[\"ChestPainType\"] == \"TA\"]) / len(NHD)*100,2)\n",
    "ATA = round(len(NHD.loc[NHD[\"ChestPainType\"] == \"ATA\"]) / len(NHD)*100,2)\n",
    "NAP = round(len(NHD.loc[NHD[\"ChestPainType\"] == \"NAP\"]) / len(NHD)*100,2)\n",
    "ASY = round(len(NHD.loc[NHD[\"ChestPainType\"] == \"ASY\"]) / len(NHD)*100,2)\n",
    "\n",
    "#Percentage graph to show distribution of chest pain types\n",
    "data = [[\"TA\", TA], [\"ATA\", ATA], [\"NAP\", NAP], [\"ASY\", ASY]]\n",
    "df = pd.DataFrame(data, columns=[\"ChestPainType\", \"Percent\"])\n",
    "dfS = df.sort_values(\"Percent\")\n",
    "plt.figure(figsize=(10,6))\n",
    "plt.bar(\"ChestPainType\", \"Percent\", data=dfS)\n",
    "plt.ylim(0,100)\n",
    "plt.xlabel(\"ChestPainType\", size=15)\n",
    "plt.ylabel(\"Percent\", size=15)\n",
    "plt.title(\"ChestPainType For patients without Heart Disease\", size=18)"
   ]
  },
  {
   "cell_type": "markdown",
   "metadata": {
    "id": "_DUgXCBh2AAS"
   },
   "source": [
    "When looking at graph 1 we can see a clear majority of the types of chest pain for patients with heart disease. We can see that a patient is about 75% likely to be Asmptomatic, which is far greater than the other chest pain types. We cant make any conclusions just yet from one graph.\n",
    "Looking at graph 2 we can see that asymptomatic chest pain is not the majority of the chest pain types, rather Atypical Angina is followed by Non-Anginal Pain and then Asymptomatic, Typical Angina is significantly lower than the rest.\n",
    "\n",
    "Using the information from graph 2, we can confirm that the large percent of Asymptomatic is unique to those with heart disease.\n",
    "- We could conclude that there is infact a difference between those with and without heart disease when it comes to chest pain types.\n",
    "- We can also conlcude a large number of people with heart disease go unnoticed, though its possible that the sample size may not be large enough to represent global populations."
   ]
  },
  {
   "cell_type": "markdown",
   "metadata": {
    "id": "Zcw0tg4cM5x5"
   },
   "source": [
    "## **Potential Data Science**\n",
    "Since data science is primarily used in health science related problems, the dataset we have selected should have plenty of potential for various applications. Our main goal for this dataset is for predicting heart failure through observed trends and attributes. In doing so, we were able to make significant conclusions that can be further studied with data science applications. The biggest idea we came up with to apply data science is with machine learning. In healthcare, machine learning can be very useful in predicting many health related issues. As this is the primary focus of our study, it will be advantagous for us to explore this topic. Our dataset can be applied onto training models to look for the most alarming values we have studied. With the dataset we have it may not provide the best results but, with a larger set the algorithm can be trained to recognize and prevent serious life threats. A study conducted in May 2021 tested this and resulted with a 94.2% prediction accuracy. "
   ]
  },
  {
   "cell_type": "markdown",
   "metadata": {
    "id": "_6oNZ930M-sJ"
   },
   "source": [
    "## **Conclusion**\n",
    "\n",
    "After doing a thorough analysis of our dataset, we came to many interesting and some surprising conclusions. First, our goal was to be able to predict heart failure based on the attributes we studied. There was a clear limitation in what we were able to conclude, simply due to the level of research we were doing. Our goal was out of our realistic reach, and thus we weren't able to conclude everything we wanted. However, we were able to find a significant amount of information that gave us further insight into what we wanted.\n",
    "\n",
    "For the future, it would be benefitial for us to include more than one dataset. To fully understand heart related issues, there are a lot more aspects to explore. Looking for either more datasets with overlapping attributes or more sets of data in general, will vastly improve our results. Heart failure can arise from aspects outside of the 12 attributes we explored. Notably, the attrbutes we explored were mostly measured, health related values. We could benefit from external observations to conclude other factors. For example, heart failure may arise from fatigue or exercise related activities. If we were to include a dataset with physical activity and its correspondence with some health issues, we may be able to figure out what physical activities may be dangerous for people at risk.\n",
    "\n",
    "Along the way, we came across some conclusions that we did not expect. First, we learned that patients that were asymptomatic with chest pains, were actually the ones with the most concering heatlh issues. Typically, you would expect them to be at the least risk since they aren't experiencing much physical pain. Another conclusion we were able to draw was that high resting blood pressure and cholesterol are the most common issues among anyone with heart related issues.\n",
    "\n",
    "Throughout our data analysis, we learned a lot about cardiovascular health and issues. The biggest lesson we learned was that many heart related issues can go unnoticed, and that it's extremely important to get regular checkups to ensure you are in good health. As studied with asymptomatic patients, you can still be at great risk even if you don't feel like it."
   ]
  },
  {
   "cell_type": "markdown",
   "metadata": {
    "id": "YzBfL-tcfvMi"
   },
   "source": [
    "## **References**\n",
    "AlBadri, A., Leong, D., Bairey Merz, C. N., Wei, J., Handberg, E. M., Shufelt, C. L., Mehta, P. K., Nelson, M. D., Thomson, L. E., Berman, D. S., Shaw, L. J., Cook-Wiens, G., & Pepine, C. J. (2017). Typical angina is associated with greater coronary endothelial dysfunction but not abnormal vasodilatory reserve. Clinical cardiology, 40(10), 886–891. https://doi.org/10.1002/clc.22740\n",
    "\n",
    "Constant J. (1990). The diagnosis of nonanginal chest pain. The Keio journal of medicine, 39(3), 187–192. https://doi.org/10.2302/kjm.39.187\n",
    "\n",
    "Asymptomatic. The MSDS hyperglossary: Asymptomatic. (2020, February 1). Retrieved December 5, 2021, from http://www.ilpi.com/msds/ref/asymptomatic.html. \n",
    "\n",
    "McDermott, A. (2019, March 8). Diastole vs. systole: Guide to Blood Pressure. Healthline. Retrieved December 5, 2021, from https://www.healthline.com/health/diastole-vs-systole. \n",
    "\n",
    "Sheldon G. Sheps, M. D. (2021, February 16). Hypertensive crisis: What are the symptoms? Mayo Clinic. Retrieved December 5, 2021, from https://www.mayoclinic.org/diseases-conditions/high-blood-pressure/expert-answers/hypertensive-crisis/faq-20058491. \n",
    "\n",
    "Divya Jacob, P. D. (2021, January 4). What is the normal blood pressure range? chart, low, normal, high. MedicineNet. Retrieved December 5, 2021, from https://www.medicinenet.com/blood_pressure_chart_reading_by_age/article.htm. \n",
    "\n",
    "Goldman, R. (2021, August 24). Cholesterol levels: By age, LDL, HDL, and more. Healthline. Retrieved December 5, 2021, from https://www.healthline.com/health/high-cholesterol/levels-by-age. \n",
    "\n",
    "Centers for Disease Control and Prevention. (2021, August 10). Diabetes tests. Centers for Disease Control and Prevention. Retrieved December 5, 2021, from https://www.cdc.gov/diabetes/basics/getting-tested.html. \n",
    "\n",
    "Gonçalves, M. A. A., Pedro, J. M., Silva, C., Magalhães, P., &amp; Brito, M. (2020, October 26). Normal limits of the electrocardiogram in Angolans. Journal of Electrocardiology. Retrieved December 5, 2021, from https://www.sciencedirect.com/science/article/pii/S0022073620305793. \n",
    "\n",
    "Nonspecific ST and T wave abnormalities on resting ECG and ... (n.d.). Retrieved December 5, 2021, from https://medicine.yale.edu/intmed/residency/traditional/curriculum/research/Siu%20Abstract_49761_153_39368_v1.pdf. \n",
    "\n",
    "Left ventricular hypertrophy (enlarged heart). Cleveland Clinic. (n.d.). Retrieved December 5, 2021, from https://my.clevelandclinic.org/health/diseases/17168-left-ventricular-hypertrophy-enlarged-heart. \n",
    "\n",
    "Target heart rates chart. www.heart.org. (n.d.). Retrieved December 5, 2021, from https://www.heart.org/en/healthy-living/fitness/fitness-basics/target-heart-rates. \n",
    "\n",
    "Bharti, R., Khamparia, A., Shabaz, M., Dhiman, G., Pande, S., &amp; Singh, P. (2021, July 1). Prediction of heart disease using a combination of machine learning and Deep Learning. Computational Intelligence and Neuroscience. Retrieved December 5, 2021, from https://www.hindawi.com/journals/cin/2021/8387680/. "
   ]
  }
 ],
 "metadata": {
  "colab": {
   "collapsed_sections": [],
   "name": "FinalProjectGroup28.ipynb",
   "provenance": []
  },
  "kernelspec": {
   "display_name": "Python 3 (ipykernel)",
   "language": "python",
   "name": "python3"
  },
  "language_info": {
   "codemirror_mode": {
    "name": "ipython",
    "version": 3
   },
   "file_extension": ".py",
   "mimetype": "text/x-python",
   "name": "python",
   "nbconvert_exporter": "python",
   "pygments_lexer": "ipython3",
   "version": "3.8.12"
  }
 },
 "nbformat": 4,
 "nbformat_minor": 1
}
